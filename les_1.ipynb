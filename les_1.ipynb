{
 "cells": [
  {
   "cell_type": "markdown",
   "metadata": {},
   "source": [
    "# Les 1: Dataypes & Variabelen\n",
    "\n",
    "In deze les leer je welke datatypes bestaan in Python, hoe je hiermee om kan gaan en zal je kort oefenen met het identificeren en gebruiken van datatypes en variabelen\n",
    "\n",
    "Selecteer de code hieronder en druk op `Ctrl`+`Enter` of druk op het play-knopje bij de code. Deze code is nodig om je opdrachten te controleren! Het is gelukt als er een groen vinkje verschijnt."
   ]
  },
  {
   "cell_type": "code",
   "execution_count": null,
   "metadata": {},
   "outputs": [
    {
     "ename": "",
     "evalue": "",
     "output_type": "error",
     "traceback": [
      "\u001b[1;31mRunning cells with 'medicgame (Python 3.12.8)' requires the ipykernel package.\n",
      "\u001b[1;31mRun the following command to install 'ipykernel' into the Python environment. \n",
      "\u001b[1;31mCommand: 'conda install -n medicgame ipykernel --update-deps --force-reinstall'"
     ]
    }
   ],
   "source": [
    "from backend.controle import check_1_1, check_1_2"
   ]
  },
  {
   "cell_type": "markdown",
   "metadata": {
    "vscode": {
     "languageId": "plaintext"
    }
   },
   "source": [
    "### Variabelen\n",
    "De computer kan gegevens opslaan in zijn geheugen, echter moet je deze gegevens wel kunnen terughalen en aanpassen anders heb je er niets aan. Dit kan gedaan worden door ze op te slaan met een naam.\n",
    "\n",
    "Stel je wilt je favoriete getal opslaan, dan moet je het een goede naam geven als `favoriete_nummer` of iets korters als bijvoorbeeld `favnum`, als het maar duidelijk is en niet hetzelfde is als een ingebouwd variabel of ingebouwde functie - maar daar komen we later nog op terug. De code om een variabel aan te maken is \n",
    "\n",
    "```py\n",
    "variabelnaam = waarde\n",
    "```\n",
    "\n",
    "In het onderstaande codeblok (ook wel cell genoemd) kan je eigen code schrijven. Na het schrijven kan het uitgevoerd worden met `Ctrl`+`Enter` of door op het play knopje links van het blok te klikken. De bovenaan is voor het controleren van jouw code, pas deze niet aan. De groene text met een `#` ervoor zijn comments en zullen genegeerd worden bij het uitvoeren van de code.\n",
    "\n",
    "***Oefening 1:***\n",
    "***Sla je favoriete getal op in de computer door het variabel `favnum` te maken en het de waarde van je favoriete (hele) getal te geven***"
   ]
  },
  {
   "cell_type": "code",
   "execution_count": null,
   "metadata": {},
   "outputs": [],
   "source": [
    "%%check_1_1\n",
    "# Schrijf hieronder je antwoord/code:\n",
    "favnum=42.1"
   ]
  },
  {
   "cell_type": "markdown",
   "metadata": {},
   "source": [
    "Je hebt net een variabel aan een nummer toegekend, alleen de computer kent het concept van een *'nummer'* niet echt. Echter kent het wel gelijksoortige classificaties van informatie, deze heten ***datatypes***, en zeggen iets over hoe de computer je variabelen opslaat en behandeld. Het unieke aan Python is dat het automatisch een datatype toekend aan je gemaakte variabel\n",
    "\n",
    "\n",
    "Hieronder staat een tabel over de belangrijkste datatypes in Python en waarvoor ze gebruikt kunnen worden\n",
    "Datatype|Uitleg|Voorbeelden\n",
    "--------|------|-----------\n",
    "`bool`  |Dit datatype wordt bepaald voor waarheden en is binair (kan twee waarden aannemen)|`True`, `False`,`0` ,`1`\n",
    "`int`   |Hele getallen, kan ook negatief zijn ([ℕ](https://en.wikipedia.org/wiki/Natural_number))|`-13`, `391`, `99`, `-1111`\n",
    "`float` |Komma-getallen, kan ook negatief of andere typen getallen zijn ([ℚ](https://en.wikipedia.org/wiki/Rational_number))|`1.421`, `-293.0`, `-0.0001`, `-∞`\n",
    "`str`   |Meerdere karakters achter elkaar, is omringd met `\"\"` of `''`|`\"hallo\"`, `\"\"`, `'-1201'`, `'hey'`\n",
    "\n",
    "***Oefening 2:***\n",
    "***Noteer in het codeblok hieronder welk datatype het variabel `favnum` is (zoals in kolom 'Datatype' staat), die je zojuist hebt gemaakt***"
   ]
  },
  {
   "cell_type": "code",
   "execution_count": null,
   "metadata": {},
   "outputs": [],
   "source": [
    "%%check_1_2\n",
    "# Schrijf hieronder je antwoord/code:\n",
    "int"
   ]
  }
 ],
 "metadata": {
  "kernelspec": {
   "display_name": "base",
   "language": "python",
   "name": "python3"
  },
  "language_info": {
   "codemirror_mode": {
    "name": "ipython",
    "version": 3
   },
   "file_extension": ".py",
   "mimetype": "text/x-python",
   "name": "python",
   "nbconvert_exporter": "python",
   "pygments_lexer": "ipython3",
   "version": "3.12.3"
  }
 },
 "nbformat": 4,
 "nbformat_minor": 2
}
