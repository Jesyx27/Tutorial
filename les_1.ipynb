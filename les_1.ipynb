{
 "cells": [
  {
   "cell_type": "markdown",
   "metadata": {},
   "source": [
    "# Les 1: Dataypes & Variabelen\n",
    "\n",
    "In deze les leer je welke datatypes bestaan in Python, hoe je hiermee om kan gaan en zal je kort oefenen met het identificeren en gebruiken van datatypes en variabelen\n",
    "\n",
    "Selecteer de code hieronder en druk op `Ctrl`+`Enter` of druk op het play-knopje bij de code. Deze code is nodig om je opdrachten te controleren! Het is gelukt als er een groen vinkje verschijnt. \n",
    "\n",
    "Als er bij het uitvoeren van je code/antwoord een error komt: `UsageError: Cell magic ... not found.`. Dan is er nog niets ingevoerd!"
   ]
  },
  {
   "cell_type": "code",
   "execution_count": 8,
   "metadata": {},
   "outputs": [
    {
     "ename": "ImportError",
     "evalue": "cannot import name 'check_1_3' from 'backend.controle' (c:\\Users\\Jesse Ceulemans\\projects\\persoonlijk\\hiddetut\\Tutorial\\backend\\controle.py)",
     "output_type": "error",
     "traceback": [
      "\u001b[1;31m---------------------------------------------------------------------------\u001b[0m",
      "\u001b[1;31mImportError\u001b[0m                               Traceback (most recent call last)",
      "Cell \u001b[1;32mIn[8], line 1\u001b[0m\n\u001b[1;32m----> 1\u001b[0m \u001b[38;5;28;01mfrom\u001b[39;00m \u001b[38;5;21;01mbackend\u001b[39;00m\u001b[38;5;21;01m.\u001b[39;00m\u001b[38;5;21;01mcontrole\u001b[39;00m \u001b[38;5;28;01mimport\u001b[39;00m check_1_1, check_1_2, check_1_3, check_1_4, check_1_5, check_1_6\n",
      "\u001b[1;31mImportError\u001b[0m: cannot import name 'check_1_3' from 'backend.controle' (c:\\Users\\Jesse Ceulemans\\projects\\persoonlijk\\hiddetut\\Tutorial\\backend\\controle.py)"
     ]
    }
   ],
   "source": [
    "from backend.controle import check_1_1, check_1_2, check_1_3, check_1_4, check_1_5, check_1_6"
   ]
  },
  {
   "cell_type": "markdown",
   "metadata": {
    "vscode": {
     "languageId": "plaintext"
    }
   },
   "source": [
    "### Variabelen\n",
    "De computer kan gegevens opslaan in zijn geheugen, echter moet je deze gegevens wel kunnen terughalen en aanpassen anders heb je er niets aan. Dit kan gedaan worden door ze op te slaan met een naam.\n",
    "\n",
    "Stel je wilt je favoriete getal opslaan, dan moet je het een goede naam geven als `favoriete_nummer` of iets korters als bijvoorbeeld `favnum`, als het maar duidelijk is en niet hetzelfde is als een ingebouwd variabel of ingebouwde functie - maar daar komen we later nog op terug. De code om een variabel aan te maken is \n",
    "\n",
    "```py\n",
    "variabelnaam = waarde\n",
    "```\n",
    "\n",
    "In het onderstaande codeblok (ook wel cell genoemd) kan je eigen code schrijven. Na het schrijven kan het uitgevoerd worden met `Ctrl`+`Enter` of door op het play knopje links van het blok te klikken. De bovenaan is voor het controleren van jouw code, pas deze niet aan. De groene text met een `#` ervoor zijn comments en zullen genegeerd worden bij het uitvoeren van de code.\n",
    "\n",
    "***Oefening 1:***\n",
    "***Sla je favoriete getal op in de computer door het variabel `favnum` te maken en het de waarde van je favoriete (hele) getal te geven***"
   ]
  },
  {
   "cell_type": "code",
   "execution_count": 4,
   "metadata": {},
   "outputs": [
    {
     "data": {
      "text/html": [
       "\n",
       "        <div style=\"border:2px solid green; background:#222222; padding:10px; border-radius:10px;\">\n",
       "            <strong>Opdracht 1 is goed!</strong><br>\n",
       "            Je hebt de opdracht goed uitgevoerd en jouw favoriete nummer 42 is. Ga verder met de volgende opdracht.\n",
       "        </div>\n",
       "    "
      ],
      "text/plain": [
       "<IPython.core.display.HTML object>"
      ]
     },
     "metadata": {},
     "output_type": "display_data"
    }
   ],
   "source": [
    "%%check_1_1\n",
    "# Schrijf hieronder je antwoord/code:\n",
    "favnum=42"
   ]
  },
  {
   "cell_type": "markdown",
   "metadata": {},
   "source": [
    "Je hebt net een variabel aan een nummer toegekend, alleen de computer kent het concept van een *'nummer'* niet echt. Echter kent het wel gelijksoortige classificaties van informatie, deze heten ***datatypes***, en zeggen iets over hoe de computer je variabelen opslaat en behandeld. Het unieke aan Python is dat het automatisch een datatype toekend aan je gemaakte variabel\n",
    "\n",
    "\n",
    "Hieronder staat een tabel over de belangrijkste datatypes in Python en waarvoor ze gebruikt kunnen worden\n",
    "Datatype|Uitleg|Voorbeelden\n",
    "--------|------|-----------\n",
    "`bool`  |Dit datatype wordt bepaald voor waarheden en is binair (kan twee waarden aannemen)|`True`, `False`,`0` ,`1`\n",
    "`int`   |Hele getallen, kan ook negatief zijn ([ℕ](https://en.wikipedia.org/wiki/Natural_number))|`-13`, `391`, `99`, `-1111`\n",
    "`float` |Komma-getallen, kan ook negatief of andere typen getallen zijn ([ℚ](https://en.wikipedia.org/wiki/Rational_number))|`1.421`, `-293.0`, `-0.0001`, `-∞`\n",
    "`str`   |Meerdere karakters achter elkaar, is omringd met `\"\"` of `''`|`\"hallo\"`, `\"\"`, `'-1201'`, `'hey'`\n",
    "\n",
    "***Oefening 2:***\n",
    "***Noteer in het codeblok hieronder welk datatype het variabel `favnum` is (zoals in kolom 'Datatype' staat), die je zojuist hebt gemaakt***"
   ]
  },
  {
   "cell_type": "code",
   "execution_count": 3,
   "metadata": {},
   "outputs": [
    {
     "data": {
      "text/html": [
       "\n",
       "        <div style=\"border:2px solid green; background:#222222; padding:10px; border-radius:10px;\">\n",
       "            <strong>Opdracht 2 is goed!</strong><br>\n",
       "            Je hebt de opdracht goed uitgevoerd. Ga verder met de volgende opdracht.\n",
       "        </div>\n",
       "    "
      ],
      "text/plain": [
       "<IPython.core.display.HTML object>"
      ]
     },
     "metadata": {},
     "output_type": "display_data"
    }
   ],
   "source": [
    "%%check_1_2\n",
    "# Schrijf hieronder je antwoord/code:\n",
    "int"
   ]
  },
  {
   "cell_type": "markdown",
   "metadata": {},
   "source": [
    "***Oefening 3:***\n",
    "***Welk datatype is het voldende variabel:*** `variabel = 'hallo'`"
   ]
  },
  {
   "cell_type": "code",
   "execution_count": null,
   "metadata": {},
   "outputs": [],
   "source": [
    "%%check_1_3\n",
    "# Schrijf hieronder je antwoord/code:\n"
   ]
  },
  {
   "cell_type": "markdown",
   "metadata": {},
   "source": [
    "***Oefening 4: Welk datatype is het volgende variabel:*** `variabel = True`"
   ]
  },
  {
   "cell_type": "code",
   "execution_count": null,
   "metadata": {},
   "outputs": [],
   "source": [
    "%%check_1_4\n",
    "# Schrijf hieronder je antwoord/code:\n"
   ]
  },
  {
   "cell_type": "markdown",
   "metadata": {},
   "source": [
    "***Oefening 5: Welk datatype is het volgende variabel: `variabel = 1.0`***"
   ]
  },
  {
   "cell_type": "code",
   "execution_count": null,
   "metadata": {},
   "outputs": [],
   "source": [
    "%%check_1_5\n",
    "# Schrijf hieronder je antwoord/code:\n"
   ]
  },
  {
   "cell_type": "markdown",
   "metadata": {},
   "source": [
    "***Oefeing 6: Welk datatype is het volgende variabel: `variabel = 'False'`***"
   ]
  },
  {
   "cell_type": "code",
   "execution_count": null,
   "metadata": {},
   "outputs": [],
   "source": [
    "%%check_1_6\n",
    "# Schrijf hieronder je antwoord/code:\n"
   ]
  },
  {
   "cell_type": "markdown",
   "metadata": {},
   "source": [
    "Er zijn gevallen waarin je variabelen wilt vergelijken. Als je bijvoorbeeld wilt kijken of `variabel_a` en `variabel_b` hetzelfde zijn. Dit is toepasbaar voor vele doeleinde. Voor deze vergelijkingen wordt `False` gezien als het nummer `0` en `True` als het nummer `1`; Dit houdt in dat er wordt gevraagd of `0` en `False` gelijk zijn aan elkaar dat het *ja* of `True` teruggeeft.\n",
    "\n",
    "Voor het nakijken van deze opdrachten worden bijvoorbeeld de vraag en het antwoord vergeleken. Er zijn meerdere van deze vergelijkingen in Python, deze geven altijd een `bool` als antwoord terug; `False` als hiet niet zo is, en `True` als het wel zo is. \n",
    "\n",
    "Hieronder staat een klein tabelletje met alle (veelgebruikte) zogenoemde (bitwise) operators voor de datatypen die je nu hebt geleerd:\n",
    "\n",
    "Operator|Wiskundig|Uitleg\n",
    "-|-|-\n",
    "`==` of `is`|$=$|Is gelijk aan, of de twee variabelen exact hetzelfde zijn.\n",
    "`!=` of `is not` |$\\neq$|Het omgekeerde, dus `False` wordt `True`, en vice versa.\n",
    "`>`|$>$|Is meer dan, voor `float`, `int` & `bool` geldt de waarde, voor een `str` geldt de lengte.\n",
    "`<`|$<$|Is minder dan, voor `float`, `int` & `bool` geldt de waarde, voor een `str` geldt de lengte.\n",
    "`>=`|$\\geq$|Is meer dan of gelijk aan, voor `float`, `int` & `bool` geldt de waarde, voor een `str` geldt de lengte.\n",
    "`<=`|$\\leq$|Is meer dan of gelijk aan, voor `float`, `int` & `bool` geldt de waarde, voor een `str` geldt de lengte.\n",
    "`&` of `and`|$\\land$|Logische *en*, dus `True and True` is `True` maar `False and True` is `False`, omdat er maar één (en niet beide) van de variabelen `True` zijn.\n",
    "`\\|` of `or`|$\\lor$|Logische *of*, dus `True or False` is `True` maar `False or False` is `False`, omdat er minimaal één van de variabelen `True` moet zijn.\n",
    "`^`|$\\oplus$|Logische *Exclusive OR*, dit is hetzelfde als `or`, maar hierbij wordt er `False` gegeven als beide variabelen `True` zijn. Deze is heel niche en komt bijna nooit voor in huis, tuin en keukenprogrammeren.\n",
    "\n",
    "Er is ook nog één uitzonderlijke bitwise operator, dat is `not` (of `~`) wat voor een variabel gezet kan worden, `not True` (of `~True`) is dus `False` en vice versa."
   ]
  },
  {
   "cell_type": "markdown",
   "metadata": {},
   "source": [
    "***Oefening 7: Wat is de waarde van de expressie `True == True`? (Je kan `True` of `False` invoeren)***"
   ]
  },
  {
   "cell_type": "code",
   "execution_count": 6,
   "metadata": {},
   "outputs": [
    {
     "name": "stderr",
     "output_type": "stream",
     "text": [
      "UsageError: Cell magic `%%check_1_7` not found.\n"
     ]
    }
   ],
   "source": [
    "%%check_1_7\n",
    "# Schrijf hieronder je antwoord/code:\n"
   ]
  },
  {
   "cell_type": "markdown",
   "metadata": {},
   "source": [
    "***Oefening 8: Wat is de waarde van de expressie `True != True`? (Je kan `True` of `False` invoeren)***"
   ]
  },
  {
   "cell_type": "code",
   "execution_count": 5,
   "metadata": {},
   "outputs": [
    {
     "name": "stderr",
     "output_type": "stream",
     "text": [
      "UsageError: Cell magic `%%check_1_8` not found.\n"
     ]
    }
   ],
   "source": [
    "%%check_1_8\n",
    "# Schrijf hieronder je antwoord/code:\n"
   ]
  },
  {
   "cell_type": "markdown",
   "metadata": {},
   "source": [
    "***Oefening 9: Wat is de waarde van de expressie `-103 > -103`? (Je kan `True` of `False` invoeren)***"
   ]
  },
  {
   "cell_type": "code",
   "execution_count": 9,
   "metadata": {},
   "outputs": [
    {
     "name": "stderr",
     "output_type": "stream",
     "text": [
      "UsageError: Cell magic `%%check_1_9` not found.\n"
     ]
    }
   ],
   "source": [
    "%%check_1_9\n",
    "# Schrijf hieronder je antwoord/code:\n"
   ]
  },
  {
   "cell_type": "markdown",
   "metadata": {},
   "source": [
    "***Oefening 10: Wat is de waarde van de expressie `-103 >= -103`? (Je kan `True` of `False` invoeren)***"
   ]
  },
  {
   "cell_type": "code",
   "execution_count": 13,
   "metadata": {},
   "outputs": [
    {
     "name": "stderr",
     "output_type": "stream",
     "text": [
      "UsageError: Cell magic `%%check_1_10` not found.\n"
     ]
    }
   ],
   "source": [
    "%%check_1_10\n",
    "# Schrijf hieronder je antwoord/code:\n"
   ]
  },
  {
   "cell_type": "markdown",
   "metadata": {},
   "source": [
    "Observeer de volgende code:\n",
    "```py\n",
    "a = 349\n",
    "b = 201\n",
    "x = not (a < b)\n",
    "```\n",
    "***Oefening 11: Wat is een andere manier om de laatste regel op te schrijven waarin nogteeds `x` wordt gedefiniëerd gebaseerd op `a` en `b`?***"
   ]
  },
  {
   "cell_type": "code",
   "execution_count": 15,
   "metadata": {},
   "outputs": [
    {
     "name": "stderr",
     "output_type": "stream",
     "text": [
      "UsageError: Cell magic `%%check_1_11` not found.\n"
     ]
    }
   ],
   "source": [
    "%%check_1_11\n",
    "# Schrijf hieronder je antwoord/code:\n",
    "# In het format x = a ? b waarin de ? een operator is.\n",
    "x = "
   ]
  }
 ],
 "metadata": {
  "kernelspec": {
   "display_name": "Python 3",
   "language": "python",
   "name": "python3"
  },
  "language_info": {
   "codemirror_mode": {
    "name": "ipython",
    "version": 3
   },
   "file_extension": ".py",
   "mimetype": "text/x-python",
   "name": "python",
   "nbconvert_exporter": "python",
   "pygments_lexer": "ipython3",
   "version": "3.11.2"
  }
 },
 "nbformat": 4,
 "nbformat_minor": 2
}
